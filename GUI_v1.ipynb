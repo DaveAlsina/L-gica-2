{
 "cells": [
  {
   "cell_type": "code",
   "execution_count": 32,
   "metadata": {},
   "outputs": [],
   "source": [
    "from tkinter import*\n",
    "from PIL import ImageTk, Image\n",
    "from math import sqrt"
   ]
  },
  {
   "cell_type": "code",
   "execution_count": 147,
   "metadata": {},
   "outputs": [],
   "source": [
    "squareHeight = 30\n",
    "squareWidth = squareHeight\n",
    "size = 4"
   ]
  },
  {
   "cell_type": "code",
   "execution_count": 148,
   "metadata": {},
   "outputs": [],
   "source": [
    "tabla = Tk() \n",
    "marco = Canvas(tabla, height= squareHeight*size + 100, width=squareWidth*size + 20)\n",
    "\n",
    "\n",
    "def createGrid(sz, height, width):\n",
    "\n",
    "    \"\"\"estos dos primeros for se encargan de crear la rejilla de filas\"\"\"\n",
    "    \n",
    "    for i in range (0, int(sqrt(sz)) + 1): # (int(sqrt(sz)) + 1\n",
    "        x0 = 10                            #(margen)\n",
    "        y0 = (10 + height*int(sqrt(sz))*i) #(alto de cuadrado) * (no. cuadrados por subregión) * (iteración) + margen\n",
    "        x1 = ( width*sz +10 )              #(ancho de cuadrado) * (no. cuadrados por fila) + margen\n",
    "        y1 = y0                            #(misma posición en y0)\n",
    "        \n",
    "        marco.create_line( x0, y0, x1, y1, width=2.5)\n",
    "        \n",
    "        if(i!= int(sqrt(sz))):\n",
    "            for i2 in range(0, int(sqrt(sz))):     # (int(sqrt(sz)) - 1) + 1\n",
    "                y2 = height*i2 \n",
    "                marco.create_line( x0, y0+y2, x1, y0+y2, width = 0.8)\n",
    "            \n",
    "    \"\"\"estos dos for se encargan de crear la rejilla de columnas\"\"\"    \n",
    "    \n",
    "    for i in range (0, int(sqrt(sz)) + 1): # (int(sqrt(sz)) + 1\n",
    "        x0 = ( 10 + i*width*sqrt(sz) )     # (ancho del cuadrado) * (no. cuadrados por subregión)* (iteración) + margen\n",
    "        x1 =  x0                           # (misma posicion de x0)\n",
    "        y0 =  10                           # (margen)\n",
    "        y1 = (10 + height*sz)              # (alto del cuadrado) * (no. cuadrados por columna) + (margen)\n",
    "        \n",
    "        marco.create_line( x0, y0, x0, y1, width=2.5)\n",
    "        \n",
    "        if(i!= int(sqrt(sz))):\n",
    "            for i2 in range(0, int(sqrt(sz))):     # (int(sqrt(sz)) - 1) + 1\n",
    "                x2 = width*i2 \n",
    "                marco.create_line( x0 + x2, y0, x0 + x2, y1, width = 0.8)\n",
    "                \n"
   ]
  },
  {
   "cell_type": "code",
   "execution_count": 150,
   "metadata": {},
   "outputs": [],
   "source": [
    " def findCasilla(event):\n",
    "    posx = int( (event.x - 10)/squareWidth ) \n",
    "    posy = int( (event.y - 10)/squareHeight ) \n",
    "    \n",
    "    print(\"casilla: \", \"(\" , posx , \",\" , posy ,\")\")\n"
   ]
  },
  {
   "cell_type": "code",
   "execution_count": null,
   "metadata": {},
   "outputs": [],
   "source": []
  },
  {
   "cell_type": "code",
   "execution_count": 151,
   "metadata": {},
   "outputs": [
    {
     "name": "stdout",
     "output_type": "stream",
     "text": [
      "casilla:  ( 2 , 2 )\n",
      "casilla:  ( 4 , 5 )\n"
     ]
    }
   ],
   "source": [
    "                \n",
    "marco.bind('<Button-1>', findCasilla)\n",
    "createGrid(size,squareHeight,squareWidth)    \n",
    "marco.pack()\n",
    "tabla.mainloop()"
   ]
  }
 ],
 "metadata": {
  "kernelspec": {
   "display_name": "Python 3",
   "language": "python",
   "name": "python3"
  },
  "language_info": {
   "codemirror_mode": {
    "name": "ipython",
    "version": 3
   },
   "file_extension": ".py",
   "mimetype": "text/x-python",
   "name": "python",
   "nbconvert_exporter": "python",
   "pygments_lexer": "ipython3",
   "version": "3.7.6"
  }
 },
 "nbformat": 4,
 "nbformat_minor": 4
}
